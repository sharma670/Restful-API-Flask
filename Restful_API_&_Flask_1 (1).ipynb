{
  "nbformat": 4,
  "nbformat_minor": 0,
  "metadata": {
    "colab": {
      "provenance": []
    },
    "kernelspec": {
      "name": "python3",
      "display_name": "Python 3"
    },
    "language_info": {
      "name": "python"
    }
  },
  "cells": [
    {
      "cell_type": "markdown",
      "source": [
        "1. What is a RESTful API.\n"
      ],
      "metadata": {
        "id": "VJA_mnWf17lD"
      }
    },
    {
      "cell_type": "markdown",
      "source": [
        "- A RESTful API (Representational State Transfer API) is a web service that follows REST principles, allowing systems to communicate using standard HTTP methods like GET, POST, PUT, and DELETE. It's widely used in web development for exchanging data between clients (like browsers or mobile apps) and servers.\n"
      ],
      "metadata": {
        "id": "VfPmaU5z2Byr"
      }
    },
    {
      "cell_type": "markdown",
      "source": [
        "2. Explain the concept of API specification."
      ],
      "metadata": {
        "id": "5JZnuj7X2uFs"
      }
    },
    {
      "cell_type": "markdown",
      "source": [
        "- An API specification defines the rules and structure of how an API should behave. It serves as a contract between the API provider and consumers, ensuring consistency and interoperability.\n",
        "Key Aspects of an API Specification:\n",
        "- Endpoints & Routes – Defines available URL paths (e.g., /users, /orders).\n",
        "- HTTP Methods – Specifies supported actions like GET, POST, PUT, and DELETE.\n",
        "- Request Format – Describes the expected input (query parameters, headers, or JSON body).\n",
        "- Response Format – Details the expected output, typically in JSON or XML.\n",
        "- Authentication & Security – Defines access control mechanisms (e.g., API keys, OAuth tokens).\n",
        "- Error Handling – Lists possible errors and response codes (e.g., 404 Not Found, 500 Internal Server Error).\n",
        "- Rate Limits & Usage Policies – Specifies restrictions like the number of requests per minute.\n"
      ],
      "metadata": {
        "id": "qfZYTjZU20O6"
      }
    },
    {
      "cell_type": "markdown",
      "source": [
        "3. What is Flask, and why is it popular for building APIs?"
      ],
      "metadata": {
        "id": "yt6ukWuu3K-4"
      }
    },
    {
      "cell_type": "markdown",
      "source": [
        "- Flask is a lightweight web framework for Python that makes it easy to build web applications and APIs. It’s popular because of its simplicity, flexibility, and minimalism, allowing developers to create APIs without unnecessary overhead.\n",
        "Why is Flask great for building APIs?\n",
        "- Lightweight & Minimalistic – Unlike larger frameworks like Django, Flask gives you complete control over the structure.\n",
        "- Easy to Learn & Use – Its simple syntax makes it perfect for beginners and experienced developers alike.\n",
        "- RESTful API Support – Flask makes it easy to define API endpoints and handle HTTP methods like GET, POST, PUT, DELETE.\n",
        "- Integration with Flask-RESTful – This extension streamlines API development by providing structured resources.\n",
        "- Flexibility & Extensibility – You can integrate Flask with databases, authentication systems, and other tools.\n",
        "- Built-in Development Server – Makes testing and debugging APIs more efficient.\n",
        "- Supports JSON Responses – Ideal for modern web applications and data exchange.\n"
      ],
      "metadata": {
        "id": "MnmjWRfL3SIk"
      }
    },
    {
      "cell_type": "markdown",
      "source": [
        "4. What is routing in Flask?"
      ],
      "metadata": {
        "id": "DQzNmPEl3gS-"
      }
    },
    {
      "cell_type": "markdown",
      "source": [
        "- Routing in Flask refers to mapping URLs to specific functions that handle requests and return responses. Essentially, it's how Flask determines which code should run when a user accesses a particular URL in a web application.\n",
        "How Routing Works\n",
        "- In Flask, you define routes using the @app.route() decorator.\n",
        "- Each route corresponds to a specific URL (e.g., /home, /about).\n",
        "- Routes can handle different HTTP methods (GET, POST, etc.).\n",
        "- Dynamic routes allow variables in URLs (/user/<username>).\n"
      ],
      "metadata": {
        "id": "OTbWeB9C33Bq"
      }
    },
    {
      "cell_type": "markdown",
      "source": [
        "5. How do you create a simple Flask application?"
      ],
      "metadata": {
        "id": "0p8OFc3V4AAu"
      }
    },
    {
      "cell_type": "markdown",
      "source": [
        "- 1. Install Flask\n",
        "First, ensure Flask is installed:\n",
        "pip install flask\n",
        "\n",
        "\n",
        "\n"
      ],
      "metadata": {
        "id": "2weOtwyR4FH2"
      }
    },
    {
      "cell_type": "code",
      "source": [
        "pip install flask"
      ],
      "metadata": {
        "id": "8htlr0DP4lyo"
      },
      "execution_count": null,
      "outputs": []
    },
    {
      "cell_type": "markdown",
      "source": [],
      "metadata": {
        "id": "0K0BmjL914Q3"
      }
    },
    {
      "cell_type": "markdown",
      "source": [
        "2. Create a Basic Flask App\n",
        "In a new Python file (app.py), write:\n",
        "from flask import Flask\n",
        "\n",
        "app = Flask(__name__)\n",
        "\n",
        "@app.route('/')\n",
        "def home():\n",
        "    return \"Hello, Flask!\"\n",
        "\n",
        "if __name__ == '__main__':\n",
        "    app.run(debug=True)\n",
        "\n",
        "\n"
      ],
      "metadata": {
        "id": "S2G97cyv5AbU"
      }
    },
    {
      "cell_type": "markdown",
      "source": [],
      "metadata": {
        "id": "QPLn-tor5QCH"
      }
    },
    {
      "cell_type": "markdown",
      "source": [
        "6. What are HTTP methods used in RESTful APIs."
      ],
      "metadata": {
        "id": "4yjvqfuf5S8k"
      }
    },
    {
      "cell_type": "markdown",
      "source": [
        "In RESTful APIs, HTTP methods define the type of action performed on resources. Here are the commonly used methods:\n",
        "1. GET – Retrieve Data\n",
        "- Used to fetch information from the server.\n",
        "- Example:\n"
      ],
      "metadata": {
        "id": "rDNWa2lq5jEA"
      }
    },
    {
      "cell_type": "code",
      "source": [
        "requests.get(\"https://example.com/api/users\")"
      ],
      "metadata": {
        "id": "clJcou4w5mcl"
      },
      "execution_count": null,
      "outputs": []
    },
    {
      "cell_type": "markdown",
      "source": [
        "7. What is the purpose of the @app.route() decorator in Flask."
      ],
      "metadata": {
        "id": "qrFu_lgj5xOg"
      }
    },
    {
      "cell_type": "markdown",
      "source": [
        "- The @app.route() decorator in Flask is used to define routes, which map URLs to specific functions. When a user visits a certain URL, Flask executes the associated function and returns a response.\n",
        "Purpose of @app.route()\n",
        "- Handles Requests → Determines which function should run when a URL is accessed.\n",
        "- Defines URL Paths → Specifies endpoints like /home, /about, or /api/users.\n",
        "- Supports HTTP Methods → Can process GET, POST, PUT, DELETE requests.\n",
        "- Enables Dynamic URLs → Allows passing parameters through URLs (e.g., /user/<name>).\n"
      ],
      "metadata": {
        "id": "dKDM5URn6GWo"
      }
    },
    {
      "cell_type": "markdown",
      "source": [
        "8. What is the difference between GET and POST HTTP methods."
      ],
      "metadata": {
        "id": "Py3asVHF6MMy"
      }
    },
    {
      "cell_type": "markdown",
      "source": [
        "- GET Method\n",
        "- Purpose: Retrieves data from the server without modifying it.\n",
        "- Usage: Used for fetching resources like user details or product listings.\n",
        "\n",
        "\n",
        "- POST Method\n",
        "- Purpose: Sends data to the server to create a new resource.\n",
        "- Usage: Used for submitting forms or adding new database entries.\n"
      ],
      "metadata": {
        "id": "1jt_NiMW6RwY"
      }
    },
    {
      "cell_type": "markdown",
      "source": [
        "9. How do you handle errors in Flask APIs."
      ],
      "metadata": {
        "id": "s_e7X3KR6ifO"
      }
    },
    {
      "cell_type": "markdown",
      "source": [
        "- Handling errors properly in Flask APIs is essential for good user experience and debugging. Flask provides several ways to manage errors effectively.\n",
        "1. Using Flask’s Built-in Error Handlers\n",
        "Flask automatically handles common HTTP errors like 404 Not Found or 500 Internal Server Error, but you can customize them\n",
        "2. Using Try-Except Blocks in API Logic\n",
        "For handling application-level errors\n",
        "3. Validating Inputs with Flask-RESTful\n",
        "If you use Flask-RESTful, you can raise structured exceptions\n"
      ],
      "metadata": {
        "id": "jPL6yWbP6nh_"
      }
    },
    {
      "cell_type": "markdown",
      "source": [
        "10. How do you connect Flask to a SQL database."
      ],
      "metadata": {
        "id": "M7JfXEDD7D3V"
      }
    },
    {
      "cell_type": "markdown",
      "source": [
        "- Connecting Flask to a SQL database is a key step in building dynamic applications that store and retrieve data. You can achieve this using Flask-SQLAlchemy, a popular ORM (Object-Relational Mapper) for handling database interactions.\n"
      ],
      "metadata": {
        "id": "eFcAS2Db7Itk"
      }
    },
    {
      "cell_type": "markdown",
      "source": [
        "11. What is the role of Flask-SQLAlchemy."
      ],
      "metadata": {
        "id": "vv74EJkY7Vgu"
      }
    },
    {
      "cell_type": "markdown",
      "source": [
        "- Flask-SQLAlchemy plays a crucial role in managing database interactions within Flask applications. It provides an Object-Relational Mapper (ORM) that simplifies working with databases by allowing developers to interact with tables using Python classes instead of raw SQL queries.\n",
        "Key Roles of Flask-SQLAlchemy\n",
        "- Database Connectivity – Easily connects Flask to databases like SQLite, MySQL, PostgreSQL.\n",
        "- ORM Functionality – Defines models as Python classes, making queries more intuitive.\n",
        "- Simplified CRUD Operations – Enables easy Create, Read, Update, and Delete (CRUD) operations.\n",
        "- Session Management – Handles database transactions automatically.\n",
        "- Data Validation & Relationships – Supports features like one-to-many and many-to-many relationships.\n"
      ],
      "metadata": {
        "id": "unYQwqXY7czG"
      }
    },
    {
      "cell_type": "markdown",
      "source": [
        "12. What are Flask blueprints, and how are they useful."
      ],
      "metadata": {
        "id": "Jz1rBtPK7lNK"
      }
    },
    {
      "cell_type": "markdown",
      "source": [
        "- Flask Blueprints are a way to organize large Flask applications into smaller, manageable modules. They help in structuring code efficiently, making it easier to scale and maintain.\n",
        "Why Use Flask Blueprints?\n",
        "- Modular Design – Breaks down the application into smaller parts.\n",
        "- Code Reusability – Allows reuse across multiple projects.\n",
        "- Clear Organization – Separates concerns, such as authentication, API routes, and admin functionality.\n",
        "- Simplifies Large Apps – Ideal for handling multiple routes without cluttering app.py.\n"
      ],
      "metadata": {
        "id": "cfD4ND557rKw"
      }
    },
    {
      "cell_type": "markdown",
      "source": [
        "13. What is the purpose of Flask's request object."
      ],
      "metadata": {
        "id": "LgXkLiKt7xqs"
      }
    },
    {
      "cell_type": "markdown",
      "source": [
        "- Flask's request object is used to access data sent by a client in an HTTP request. It helps Flask applications handle incoming data, including form submissions, JSON payloads, headers, and query parameters.\n"
      ],
      "metadata": {
        "id": "4mVi4Nzy74Ku"
      }
    },
    {
      "cell_type": "markdown",
      "source": [
        "14. How do you create a RESTful API endpoint using Flask."
      ],
      "metadata": {
        "id": "FX-60VQB8EAq"
      }
    },
    {
      "cell_type": "markdown",
      "source": [
        "- 1. Install Flask\n",
        "First, ensure Flask is installed:\n"
      ],
      "metadata": {
        "id": "CD9j52jZ8Lxa"
      }
    },
    {
      "cell_type": "code",
      "source": [
        "pip install flask"
      ],
      "metadata": {
        "id": "lNoiHEFA8Xiy"
      },
      "execution_count": null,
      "outputs": []
    },
    {
      "cell_type": "code",
      "source": [
        "from flask import Flask, jsonify\n",
        "\n",
        "app = Flask(__name__)"
      ],
      "metadata": {
        "id": "O256vvpY8fUu"
      },
      "execution_count": null,
      "outputs": []
    },
    {
      "cell_type": "code",
      "source": [
        "@app.route('/api/users', methods=['GET'])\n",
        "def get_users():\n",
        "    users = [{\"id\": 1, \"name\": \"Vicky\"}, {\"id\": 2, \"name\": \"Bob\"}]\n",
        "    return jsonify(users)"
      ],
      "metadata": {
        "id": "gILzvJd-8hBx"
      },
      "execution_count": null,
      "outputs": []
    },
    {
      "cell_type": "code",
      "source": [
        "if __name__ == '__main__':\n",
        "    app.run(debug=True)"
      ],
      "metadata": {
        "id": "HFQgVb_a8nHq"
      },
      "execution_count": null,
      "outputs": []
    },
    {
      "cell_type": "code",
      "source": [
        "from flask import request\n",
        "\n",
        "@app.route('/api/users', methods=['POST'])\n",
        "def create_user():\n",
        "    data = request.get_json()\n",
        "    return jsonify({\"message\": \"User created\", \"data\": data}), 201\n",
        "    {\"id\": 3, \"name\": \"Charlie\"}"
      ],
      "metadata": {
        "id": "GeXXJRr88q5K"
      },
      "execution_count": null,
      "outputs": []
    },
    {
      "cell_type": "markdown",
      "source": [
        "15. What is the purpose of Flask's jsonify() function."
      ],
      "metadata": {
        "id": "fL4-02rr83-1"
      }
    },
    {
      "cell_type": "markdown",
      "source": [
        "- Flask’s jsonify() function is used to convert Python data structures (like dictionaries or lists) into JSON format, making it easier to send structured responses in APIs.\n",
        "Purpose of jsonify()\n",
        "- Converts Data to JSON – Converts Python dictionaries or lists into valid JSON responses.\n",
        "- Sets Proper Content-Type – Automatically sets the response header to \"application/json\" for correct API behavior.\n",
        "- Improves API Formatting – Ensures data is properly formatted for API clients like web browsers or mobile apps.\n",
        "- Handles Encoding Efficiently – Supports UTF-8 and ensures proper character encoding in responses.\n"
      ],
      "metadata": {
        "id": "rCrmTbN78-Ma"
      }
    },
    {
      "cell_type": "markdown",
      "source": [
        "16. Explain Flask’s url_for() function."
      ],
      "metadata": {
        "id": "WKfjrMha9F8u"
      }
    },
    {
      "cell_type": "markdown",
      "source": [
        "- lask’s url_for() function is used to dynamically build URLs for routes in a Flask application. Instead of hardcoding URLs, url_for() helps generate them based on the function name, making applications more maintainable and scalable.\n",
        "Why Use url_for()?\n",
        "- Avoid Hardcoding URLs – Generates URLs dynamically based on function names.\n",
        "- Handles URL Changes – If a route changes, updates happen automatically.\n",
        "- Supports Query Parameters – Allows adding parameters dynamically.\n",
        "- Works with Blueprints – Helps structure complex applications.\n"
      ],
      "metadata": {
        "id": "ofcHhdhm9PKn"
      }
    },
    {
      "cell_type": "markdown",
      "source": [
        "17. How does Flask handle static files (CSS, JavaScript, etc.)?"
      ],
      "metadata": {
        "id": "QpsSNPib9VX7"
      }
    },
    {
      "cell_type": "markdown",
      "source": [
        "- Flask handles static files (CSS, JavaScript, images) by serving them from a dedicated static/ directory. This ensures web applications can load styles and scripts properly.\n",
        "How Flask Handles Static Files\n",
        "- Store Static Files in the static/ Folder\n",
        "- Flask automatically serves files placed inside this directory.\n",
        "- Typical structure:\n",
        "\n",
        "/static/\n",
        "  ├── css/\n",
        "  │    ├── style.css\n",
        "  ├── js/\n",
        "  │    ├── script.js\n",
        "  ├── images/\n",
        "  │    ├── logo.png\n"
      ],
      "metadata": {
        "id": "fxkQLGLi9aOD"
      }
    },
    {
      "cell_type": "markdown",
      "source": [
        "18. What is an API specification, and how does it help in building a Flask API."
      ],
      "metadata": {
        "id": "5EOJuRxb91Nb"
      }
    },
    {
      "cell_type": "markdown",
      "source": [
        "- An API specification defines the structure, behavior, and expected inputs/outputs of an API. It serves as a contract between the API provider and consumers, ensuring consistency, clarity, and interoperability when different systems interact.\n",
        "How API Specifications Help in Flask API Development\n",
        "- Standardized Structure – Clearly outlines endpoints, request methods, and response formats, making development more organized.\n",
        "- Improved Documentation – Helps developers understand how to interact with the API.\n",
        "- Consistency Across Teams – Ensures uniformity when multiple developers work on the project.\n",
        "- Better Error Handling – Defines expected error codes and responses for common failures.\n",
        "- Facilitates Testing – Enables automated API testing based on defined rules.\n",
        "- Enhances Security – Specifies authentication, authorization, and data validation requirements.\n"
      ],
      "metadata": {
        "id": "AbeGQC4X97zm"
      }
    },
    {
      "cell_type": "markdown",
      "source": [
        "19. What are HTTP status codes, and why are they important in a Flask API."
      ],
      "metadata": {
        "id": "UGJ_6iXj-EKn"
      }
    },
    {
      "cell_type": "markdown",
      "source": [
        "- HTTP status codes are numeric responses that indicate the outcome of an HTTP request in a Flask API. They help clients understand whether a request succeeded, failed, or requires further action.\n",
        "Why Are HTTP Status Codes Important?\n",
        "- Communicate Request Results – They tell the client whether an operation was successful or encountered an issue.\n",
        "- Improve Debugging – Developers can quickly identify errors using status codes.\n",
        "- Enhance API Reliability – Standardized responses ensure consistent API behavior.\n",
        "- Help in Error Handling – Clients can take appropriate actions based on status codes.\n"
      ],
      "metadata": {
        "id": "rpACxTOI-MiC"
      }
    },
    {
      "cell_type": "markdown",
      "source": [
        "20. How do you handle POST requests in Flask.?"
      ],
      "metadata": {
        "id": "biErITO--akp"
      }
    },
    {
      "cell_type": "markdown",
      "source": [
        "- In Flask, POST requests are used to send data to the server, typically to create a new resource. You can handle them using Flask’s request object and jsonify() to return structured responses.\n",
        "Steps to Handle a POST Request in Flask\n",
        "- Import Flask and request\n",
        "- Define an endpoint that accepts POST requests\n",
        "- Extract and process JSON data\n",
        "- Return a structured response\n"
      ],
      "metadata": {
        "id": "CTKbgOzY-hux"
      }
    },
    {
      "cell_type": "markdown",
      "source": [
        "21. How would you secure a Flask API."
      ],
      "metadata": {
        "id": "Y4E12N8Q-qdI"
      }
    },
    {
      "cell_type": "markdown",
      "source": [
        "- Securing a Flask API is crucial to protect data, prevent unauthorized access, and ensure safe interactions. Here’s how you can enhance security:\n",
        "1. Use Authentication & Authorization\n",
        "- API Keys → Require clients to send an API key in requests.\n",
        "- JWT (JSON Web Tokens) → Securely authenticate users.\n",
        "- OAuth 2.0 → Handle third-party authentication (e.g., Google, GitHub login).\n",
        "2. Validate & Sanitize User Input\n",
        "- Prevent SQL Injection → Use Flask-SQLAlchemy with parameterized queries.\n",
        "- Escape Input → Protect against XSS (Cross-Site Scripting) attacks.\n",
        "3. Enforce HTTPS\n",
        "- Always serve APIs over HTTPS to encrypt data in transit.\n",
        "4. Implement Rate Limiting\n",
        "- Prevent abuse by limiting requests per user/IP.\n",
        "5. Secure API Endpoints\n",
        "- Restrict Allowed Methods → Ensure endpoints only accept valid HTTP methods.\n",
        "- Use Proper Error Handling → Don’t expose sensitive stack traces.\n",
        "6. Protect Against CSRF Attacks\n",
        "- Use Flask-WTF or custom CSRF tokens for form submissions.\n",
        "7. Secure Sessions\n",
        "- Use Flask-Login for session-based authentication.\n"
      ],
      "metadata": {
        "id": "cggxdeWH-x79"
      }
    },
    {
      "cell_type": "markdown",
      "source": [
        "22. What is the significance of the Flask-RESTful extension."
      ],
      "metadata": {
        "id": "5g3JnsdD_HdL"
      }
    },
    {
      "cell_type": "markdown",
      "source": [
        "- Flask-RESTful is an extension that simplifies building RESTful APIs in Flask. It provides a structured approach to defining API resources, handling requests, and managing responses efficiently.\n",
        "Why Use Flask-RESTful?\n",
        "- Organized Resource Management – Defines API endpoints as classes, making code more structured.\n",
        "- Built-in Request Parsing – Easily extracts and validates JSON input.\n",
        "- Automatic Response Formatting – Simplifies returning JSON data.\n",
        "- Integrates with Flask-SQLAlchemy – Works well with databases for CRUD operations.\n",
        "- Standardized Error Handling – Provides uniform error responses across the API.\n",
        "- Defines /hello endpoint using a class-based approach.\n",
        "- Automatically returns a JSON response.\n"
      ],
      "metadata": {
        "id": "jEx76FDb_OwC"
      }
    },
    {
      "cell_type": "markdown",
      "source": [
        "23. What is the role of Flask’s session object."
      ],
      "metadata": {
        "id": "3EfgAqUg_ZWS"
      }
    },
    {
      "cell_type": "markdown",
      "source": [
        "- Flask’s session object is used to store user-specific data across multiple requests. Unlike cookies, which store data on the client-side, sessions store data on the server-side, making them more secure.\n",
        "Role of Flask’s session Object\n",
        "- Maintain User State – Keep track of user interactions across requests.\n",
        "- Secure Data Storage – Stores data server-side, but uses a client-side session ID.\n",
        "- Supports Authentication – Helps manage login sessions.\n",
        "- Persists User Preferences – Retains user settings during a session.\n",
        "- Encapsulates Sensitive Information – Reduces exposure of important data.\n",
        "\n"
      ],
      "metadata": {
        "id": "aQ-6k7a4_fvh"
      }
    },
    {
      "cell_type": "markdown",
      "source": [
        "**Practical Questions**"
      ],
      "metadata": {
        "id": "5e36DTUcaqcq"
      }
    },
    {
      "cell_type": "markdown",
      "source": [
        "1. How do you create a basic Flask application."
      ],
      "metadata": {
        "id": "gxBoGN-ka2TS"
      }
    },
    {
      "cell_type": "code",
      "source": [
        "pip install flask"
      ],
      "metadata": {
        "id": "LhkQ6xaKa-cj"
      },
      "execution_count": null,
      "outputs": []
    },
    {
      "cell_type": "code",
      "source": [
        "from flask import Flask\n",
        "\n",
        "app = Flask(__name__)\n",
        "\n",
        "@app.route('/')\n",
        "def home():\n",
        "    return \"Hello, Flask!\"\n",
        "\n",
        "if __name__ == '__main__':\n",
        "    app.run(debug=True)"
      ],
      "metadata": {
        "colab": {
          "base_uri": "https://localhost:8080/"
        },
        "id": "xwFnGJKibPQ9",
        "outputId": "5c83daa9-8a8d-475a-8873-6f70624d5f59"
      },
      "execution_count": null,
      "outputs": [
        {
          "output_type": "stream",
          "name": "stdout",
          "text": [
            " * Serving Flask app '__main__'\n",
            " * Debug mode: on\n"
          ]
        },
        {
          "output_type": "stream",
          "name": "stderr",
          "text": [
            "INFO:werkzeug:\u001b[31m\u001b[1mWARNING: This is a development server. Do not use it in a production deployment. Use a production WSGI server instead.\u001b[0m\n",
            " * Running on http://127.0.0.1:5000\n",
            "INFO:werkzeug:\u001b[33mPress CTRL+C to quit\u001b[0m\n",
            "INFO:werkzeug: * Restarting with stat\n"
          ]
        }
      ]
    },
    {
      "cell_type": "markdown",
      "source": [
        "2. How do you serve static files like images or CSS in Flask."
      ],
      "metadata": {
        "id": "s5sA7jmnbZ4z"
      }
    },
    {
      "cell_type": "code",
      "source": [
        "your_project/\n",
        "├── app.py\n",
        "├── static/\n",
        "│   ├── style.css\n",
        "│   └── images/\n",
        "│       └── logo.png\n",
        "└── templates/\n",
        "    └── index.html"
      ],
      "metadata": {
        "id": "3VOXQZJfr7ny"
      },
      "execution_count": null,
      "outputs": []
    },
    {
      "cell_type": "code",
      "source": [
        "<link rel=\"stylesheet\" href=\"{{ url_for('static', filename='style.css') }}\">\n",
        "<img src=\"{{ url_for('static', filename='images/logo.png') }}\" alt=\"Logo\">"
      ],
      "metadata": {
        "id": "LuTeNwnfr_mq"
      },
      "execution_count": null,
      "outputs": []
    },
    {
      "cell_type": "code",
      "source": [
        "app = Flask(__name__, static_folder='assets')"
      ],
      "metadata": {
        "id": "mohUkBKisDqN"
      },
      "execution_count": null,
      "outputs": []
    },
    {
      "cell_type": "markdown",
      "source": [
        "3. How do you define different routes with different HTTP methods in Flask."
      ],
      "metadata": {
        "id": "FTLpcElUsHvF"
      }
    },
    {
      "cell_type": "code",
      "source": [
        "!pip install flask-ngrok"
      ],
      "metadata": {
        "id": "NZfOm2x6s54N"
      },
      "execution_count": null,
      "outputs": []
    },
    {
      "cell_type": "code",
      "source": [
        "\n",
        "\n",
        "from flask import Flask, request\n",
        "from flask_ngrok import run_with_ngrok\n",
        "\n",
        "app = Flask(__name__)\n",
        "run_with_ngrok(app)  # This will tunnel your app to a public URL\n",
        "\n",
        "@app.route('/greet', methods=['GET', 'POST'])\n",
        "def greet():\n",
        "    if request.method == 'POST':\n",
        "        name = request.form.get('name', 'Guest')\n",
        "        return f'Hello, {name}! You sent a POST request.'\n",
        "    else:\n",
        "        return '''\n",
        "            <form method=\"POST\">\n",
        "                Enter your name: <input type=\"text\" name=\"name\">\n",
        "                <input type=\"submit\" value=\"Submit\">\n",
        "            </form>\n",
        "        '''\n",
        "\n",
        "app.run()"
      ],
      "metadata": {
        "id": "I_lu7kActT_A"
      },
      "execution_count": null,
      "outputs": []
    },
    {
      "cell_type": "markdown",
      "source": [
        "4. How do you render HTML templates in Flask."
      ],
      "metadata": {
        "id": "XNVwrsZtt0BD"
      }
    },
    {
      "cell_type": "code",
      "source": [
        "!pip install flask flask-ngrok --quiet"
      ],
      "metadata": {
        "id": "6x6ICo4MwSt1"
      },
      "execution_count": null,
      "outputs": []
    },
    {
      "cell_type": "code",
      "source": [
        "!pip install flask-ngrok\n",
        "\n",
        "from flask import Flask, render_template_string\n",
        "from flask_ngrok import run_with_ngrok\n",
        "\n",
        "app = Flask(__name__)\n",
        "run_with_ngrok(app)\n",
        "\n",
        "@app.route('/')\n",
        "def home():\n",
        "    return render_template_string('''\n",
        "        <!DOCTYPE html>\n",
        "        <html>\n",
        "        <head>\n",
        "            <title>Flask Template</title>\n",
        "        </head>\n",
        "        <body>\n",
        "            <h1>Welcome to Flask Template Rendering!</h1>\n",
        "            <p>This is rendered using <code>render_template_string</code> in Colab.</p>\n",
        "        </body>\n",
        "        </html>\n",
        "    ''')\n",
        "\n",
        "app.run()"
      ],
      "metadata": {
        "id": "_tutdbZdwy9F"
      },
      "execution_count": null,
      "outputs": []
    },
    {
      "cell_type": "markdown",
      "source": [
        "5. How can you generate URLs for routes in Flask using url_for."
      ],
      "metadata": {
        "id": "FvukJ_i5w4r2"
      }
    },
    {
      "cell_type": "code",
      "source": [
        "from flask import Flask, url_for\n",
        "\n",
        "app = Flask(__name__)\n",
        "\n",
        "@app.route('/hello')\n",
        "def hello():\n",
        "    return 'Hello, World!'\n",
        "\n",
        "@app.route('/')\n",
        "def index():\n",
        "    return f'Go to the hello page: <a href=\"{url_for(\"hello\")}\">Click here</a>'"
      ],
      "metadata": {
        "id": "rjssstLsxBda"
      },
      "execution_count": null,
      "outputs": []
    },
    {
      "cell_type": "markdown",
      "source": [
        "6. How do you handle forms in Flask."
      ],
      "metadata": {
        "id": "5wZxRhkcxK2q"
      }
    },
    {
      "cell_type": "code",
      "source": [
        "<form method=\"POST\" action=\"/submit\">\n",
        "  <label>Name:</label>\n",
        "  <input type=\"text\" name=\"username\">\n",
        "  <input type=\"submit\" value=\"Submit\">\n",
        "</form>"
      ],
      "metadata": {
        "id": "B3tOK5G9xdOG"
      },
      "execution_count": null,
      "outputs": []
    },
    {
      "cell_type": "code",
      "source": [
        "from flask import Flask, request, render_template\n",
        "\n",
        "app = Flask(__name__)\n",
        "\n",
        "@app.route('/')\n",
        "def index():\n",
        "    return render_template('form.html')\n",
        "\n",
        "@app.route('/submit', methods=['POST'])\n",
        "def submit():\n",
        "    name = request.form['username']\n",
        "    return f'Hello, {name}!'"
      ],
      "metadata": {
        "id": "cQ06-Tp0xf3_"
      },
      "execution_count": null,
      "outputs": []
    },
    {
      "cell_type": "code",
      "source": [
        "from flask import Flask, request, render_template_string\n",
        "from flask_ngrok import run_with_ngrok\n",
        "\n",
        "app = Flask(__name__)\n",
        "run_with_ngrok(app)\n",
        "\n",
        "@app.route('/', methods=['GET', 'POST'])\n",
        "def form():\n",
        "    if request.method == 'POST':\n",
        "        name = request.form['username']\n",
        "        return f'Hello, {name}!'\n",
        "    return render_template_string('''\n",
        "        <form method=\"POST\">\n",
        "            <label>Name:</label>\n",
        "            <input type=\"text\" name=\"username\">\n",
        "            <input type=\"submit\" value=\"Submit\">\n",
        "        </form>\n",
        "    ''')\n",
        "\n",
        "app.run()"
      ],
      "metadata": {
        "id": "pZmT-8nqxxvi"
      },
      "execution_count": null,
      "outputs": []
    },
    {
      "cell_type": "markdown",
      "source": [
        "7. How can you validate form data in Flask."
      ],
      "metadata": {
        "id": "-pFJ_GiXxkCZ"
      }
    },
    {
      "cell_type": "code",
      "source": [
        "from flask import Flask, request\n",
        "\n",
        "app = Flask(__name__)\n",
        "\n",
        "@app.route('/submit', methods=['POST'])\n",
        "def submit():\n",
        "    name = request.form.get('name')\n",
        "    if not name:\n",
        "        return 'Name is required!', 400\n",
        "    return f'Hello, {name}!'"
      ],
      "metadata": {
        "id": "5eg3yQfCxrxs"
      },
      "execution_count": null,
      "outputs": []
    },
    {
      "cell_type": "markdown",
      "source": [
        "8. How do you manage sessions in Flask."
      ],
      "metadata": {
        "id": "n-jKyjOLx7fc"
      }
    },
    {
      "cell_type": "code",
      "source": [
        "from flask import Flask, session, redirect, url_for, request\n",
        "\n",
        "app = Flask(__name__)\n",
        "app.secret_key = 'your_secret_key'  # Required to sign session cookies\n",
        "\n",
        "@app.route('/login', methods=['POST'])\n",
        "def login():\n",
        "    session['username'] = request.form['username']\n",
        "    return redirect(url_for('profile'))\n",
        "\n",
        "@app.route('/profile')\n",
        "def profile():\n",
        "    if 'username' in session:\n",
        "        return f\"Welcome, {session['username']}!\"\n",
        "    return redirect(url_for('login'))\n",
        "\n",
        "@app.route('/logout')\n",
        "def logout():\n",
        "    session.pop('username', None)\n",
        "    return 'Logged out!'"
      ],
      "metadata": {
        "id": "SqJWjvKayDQI"
      },
      "execution_count": null,
      "outputs": []
    },
    {
      "cell_type": "markdown",
      "source": [
        "9. How do you redirect to a different route in Flask."
      ],
      "metadata": {
        "id": "BdB5hXqyyMBo"
      }
    },
    {
      "cell_type": "code",
      "source": [
        "from flask import Flask, redirect, url_for\n",
        "\n",
        "app = Flask(__name__)\n",
        "\n",
        "@app.route('/')\n",
        "def home():\n",
        "    return redirect(url_for('welcome'))\n",
        "\n",
        "@app.route('/welcome')\n",
        "def welcome():\n",
        "    return 'Welcome to the redirected page!'"
      ],
      "metadata": {
        "id": "TmeZaKhZyUFk"
      },
      "execution_count": null,
      "outputs": []
    },
    {
      "cell_type": "markdown",
      "source": [
        "10. How do you handle errors in Flask (e.g., 404)."
      ],
      "metadata": {
        "id": "uavxf9q-ybXU"
      }
    },
    {
      "cell_type": "code",
      "source": [
        "from flask import Flask, render_template\n",
        "\n",
        "app = Flask(__name__)\n",
        "\n",
        "@app.errorhandler(404)\n",
        "def page_not_found(e):\n",
        "    return render_template('404.html'), 404"
      ],
      "metadata": {
        "id": "fSu6ctAuyh5E"
      },
      "execution_count": null,
      "outputs": []
    },
    {
      "cell_type": "markdown",
      "source": [
        "11. How do you structure a Flask app using Blueprints."
      ],
      "metadata": {
        "id": "LCbVRMoQysb6"
      }
    },
    {
      "cell_type": "code",
      "source": [
        "myapp/\n",
        "├── app/\n",
        "│   ├── __init__.py\n",
        "│   ├── routes/\n",
        "│   │   ├── __init__.py\n",
        "│   │   └── user_routes.py\n",
        "├── templates/\n",
        "│   └── index.html\n",
        "├── run.py"
      ],
      "metadata": {
        "id": "lCzSzalTy5R4"
      },
      "execution_count": null,
      "outputs": []
    },
    {
      "cell_type": "code",
      "source": [
        "from flask import Blueprint\n",
        "\n",
        "user_bp = Blueprint('user', __name__)\n",
        "\n",
        "@user_bp.route('/users')\n",
        "def users():\n",
        "    return \"List of users\""
      ],
      "metadata": {
        "id": "W_3fcAEgzFi-"
      },
      "execution_count": null,
      "outputs": []
    },
    {
      "cell_type": "markdown",
      "source": [
        "12. How do you define a custom Jinja filter in Flask."
      ],
      "metadata": {
        "id": "0Uo9bUaizKRB"
      }
    },
    {
      "cell_type": "code",
      "source": [
        "from flask import Flask, render_template_string\n",
        "\n",
        "app = Flask(__name__)\n",
        "\n",
        "#  Custom Jinja filter\n",
        "@app.template_filter('reverse')\n",
        "def reverse_string(s):\n",
        "    return s[::-1]\n",
        "\n",
        "@app.route('/')\n",
        "def index():\n",
        "    name = \"FlaskFan\"\n",
        "    return render_template_string('''\n",
        "        <!DOCTYPE html>\n",
        "        <html>\n",
        "        <head>\n",
        "            <title>Custom Filter Demo</title>\n",
        "        </head>\n",
        "        <body>\n",
        "            <h1>Using Custom Jinja Filter</h1>\n",
        "            <p>Original: {{ name }}</p>\n",
        "            <p>Reversed: {{ name | reverse }}</p>\n",
        "        </body>\n",
        "        </html>\n",
        "    ''', name=name)\n",
        "\n",
        "if __name__ == '__main__':\n",
        "    app.run(debug=True)"
      ],
      "metadata": {
        "id": "yI3xy7eDzQUY"
      },
      "execution_count": null,
      "outputs": []
    },
    {
      "cell_type": "markdown",
      "source": [
        "13. How can you redirect with query parameters in Flask."
      ],
      "metadata": {
        "id": "o88D7TyozvuY"
      }
    },
    {
      "cell_type": "code",
      "source": [
        "from flask import Flask, redirect, url_for, request\n",
        "\n",
        "app = Flask(__name__)\n",
        "\n",
        "@app.route('/search')\n",
        "def search():\n",
        "    query = request.args.get('q', 'Nothing')\n",
        "    return f\"You searched for: {query}\"\n",
        "\n",
        "@app.route('/go')\n",
        "def go():\n",
        "    return redirect(url_for('search', q='flask+rocks'))"
      ],
      "metadata": {
        "id": "S2bjlmiJz0YU"
      },
      "execution_count": null,
      "outputs": []
    },
    {
      "cell_type": "markdown",
      "source": [
        "14. How do you return JSON responses in Flask."
      ],
      "metadata": {
        "id": "SZlpd3Trz7wM"
      }
    },
    {
      "cell_type": "code",
      "source": [
        "from flask import Flask, jsonify\n",
        "\n",
        "app = Flask(__name__)\n",
        "\n",
        "@app.route('/api/data')\n",
        "def get_data():\n",
        "    data = {'name': 'FlaskFan', 'language': 'Python'}\n",
        "    return jsonify(data)"
      ],
      "metadata": {
        "id": "dhG8JY6V0B2L"
      },
      "execution_count": null,
      "outputs": []
    },
    {
      "cell_type": "markdown",
      "source": [
        "15. How do you capture URL parameters in Flask."
      ],
      "metadata": {
        "id": "V4ht9_Ot0LLQ"
      }
    },
    {
      "cell_type": "code",
      "source": [
        "from flask import Flask, request\n",
        "\n",
        "app = Flask(__name__)\n",
        "\n",
        "@app.route('/user/<username>')\n",
        "def user_profile(username):\n",
        "    # Query parameters\n",
        "    page = request.args.get('page', default=1, type=int)\n",
        "    sort = request.args.get('sort', default='asc')\n",
        "\n",
        "    return (\n",
        "        f\"User: {username}<br>\"\n",
        "        f\"Page: {page}<br>\"\n",
        "        f\"Sort Order: {sort}\"\n",
        "    )\n",
        "\n",
        "if __name__ == '__main__':\n",
        "    app.run(debug=True)"
      ],
      "metadata": {
        "id": "mTRRiZRk0kYn"
      },
      "execution_count": null,
      "outputs": []
    },
    {
      "cell_type": "markdown",
      "source": [],
      "metadata": {
        "id": "SwJK3-eVztKo"
      }
    },
    {
      "cell_type": "markdown",
      "source": [],
      "metadata": {
        "id": "kyrORjNW1tcJ"
      }
    }
  ]
}